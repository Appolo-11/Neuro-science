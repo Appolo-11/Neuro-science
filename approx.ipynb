{
  "nbformat": 4,
  "nbformat_minor": 0,
  "metadata": {
    "colab": {
      "name": "approx.ipynb",
      "provenance": [],
      "authorship_tag": "ABX9TyNwEUSyT8d9w4lTHA+dZasx",
      "include_colab_link": true
    },
    "kernelspec": {
      "name": "python3",
      "display_name": "Python 3"
    }
  },
  "cells": [
    {
      "cell_type": "markdown",
      "metadata": {
        "id": "view-in-github",
        "colab_type": "text"
      },
      "source": [
        "<a href=\"https://colab.research.google.com/github/Appolo-11/Neuro-science/blob/master/approx.ipynb\" target=\"_parent\"><img src=\"https://colab.research.google.com/assets/colab-badge.svg\" alt=\"Open In Colab\"/></a>"
      ]
    },
    {
      "cell_type": "code",
      "metadata": {
        "id": "uQHTmYfKvUT7",
        "colab_type": "code",
        "colab": {}
      },
      "source": [
        "import numpy as np\n",
        "from scipy.integrate import odeint"
      ],
      "execution_count": 1,
      "outputs": []
    },
    {
      "cell_type": "code",
      "metadata": {
        "id": "WgyzqViiwBVH",
        "colab_type": "code",
        "colab": {}
      },
      "source": [
        "def odeintz(func, z0, t, **kwargs):\n",
        "    \"\"\"An odeint-like function for complex valued differential equations.\"\"\"\n",
        "\n",
        "    # Disallow Jacobian-related arguments.\n",
        "    _unsupported_odeint_args = ['Dfun', 'col_deriv', 'ml', 'mu']\n",
        "    bad_args = [arg for arg in kwargs if arg in _unsupported_odeint_args]\n",
        "    if len(bad_args) > 0:\n",
        "        raise ValueError(\"The odeint argument %r is not supported by \"\n",
        "                         \"odeintz.\" % (bad_args[0],))\n",
        "\n",
        "    # Make sure z0 is a numpy array of type np.complex128.\n",
        "    z0 = np.array(z0, dtype=np.complex128, ndmin=1)\n",
        "\n",
        "    def realfunc(x, t, *args):\n",
        "        z = x.view(np.complex128)\n",
        "        dzdt = func(z, t, *args)\n",
        "        # func might return a python list, so convert its return\n",
        "        # value to an array with type np.complex128, and then return\n",
        "        # a np.float64 view of that array.\n",
        "        return np.asarray(dzdt, dtype=np.complex128).view(np.float64)\n",
        "\n",
        "    result = odeint(realfunc, z0.view(np.float64), t, **kwargs)\n",
        "\n",
        "    if kwargs.get('full_output', False):\n",
        "        z = result[0].view(np.complex128)\n",
        "        infodict = result[1]\n",
        "        return z, infodict\n",
        "    else:\n",
        "        z = result.view(np.complex128)\n",
        "        return z"
      ],
      "execution_count": 5,
      "outputs": []
    },
    {
      "cell_type": "code",
      "metadata": {
        "id": "w0zQ3GOnwReh",
        "colab_type": "code",
        "colab": {}
      },
      "source": [
        "def circuit(tau, a, b, I, dist, sample_fr):\n",
        "    def model(z, t, I):\n",
        "        U = z[0]\n",
        "        V = z[1]\n",
        "        dU_dt = U - U**3/3 - V + I\n",
        "        dV_dt = U + a - b*V\n",
        "        dzdt = [dU_dt, dV_dt]\n",
        "        return dzdt\n",
        "\n",
        "    # initial condition\n",
        "    z_0 = [0.000001, 0.000001]\n",
        "\n",
        "    # number of time points\n",
        "\n",
        "    # time points\n",
        "    n = dist * sample_fr\n",
        "    t = np.arange(0, dist,1/sample_fr)\n",
        "\n",
        "    # step input\n",
        "    I =np.sin(t)\n",
        "    # store solution\n",
        "    U = np.empty_like(t)\n",
        "    V = np.empty_like(t)\n",
        "    # record initial conditions\n",
        "    U[0] = z_0[0]\n",
        "    V[0] = z_0[1]\n",
        "    # solve ODE\n",
        "    for i in range(1, n):\n",
        "        # span for next time step\n",
        "        tspan = [t[i - 1], t[i]]\n",
        "        # solve for next step\n",
        "        z = odeint(model, z_0, tspan, args=(I[i],))\n",
        "        # store solution for plotting\n",
        "        U[i] = z[1][0]\n",
        "        V[i] = z[1][1]\n",
        "        # next initial condition\n",
        "        z_0 = z[1]\n",
        "    return t, U, V"
      ],
      "execution_count": 3,
      "outputs": []
    }
  ]
}